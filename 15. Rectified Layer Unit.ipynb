{
 "cells": [
  {
   "cell_type": "markdown",
   "id": "0199d031",
   "metadata": {},
   "source": [
    "- max of (0,z)\n",
    "- whenever z is -ve it will be zero\n",
    "- wheneever z is +ve it will be increasing\n",
    "- In RLU whenever the value is +ve the output is always 1 as it works on tanh45 = 1\n",
    "- Derivative of constant is zero\n",
    "- If derivative is greater than zero then output will be 1\n",
    "- If derivative is lesser than zero then output will be 0"
   ]
  },
  {
   "cell_type": "markdown",
   "id": "eac4d835",
   "metadata": {},
   "source": [
    "# Leaky RELU\n",
    "- if derivative is lesser than zero then output will be some small value (0.01)"
   ]
  },
  {
   "cell_type": "code",
   "execution_count": null,
   "id": "4355f549",
   "metadata": {},
   "outputs": [],
   "source": []
  }
 ],
 "metadata": {
  "kernelspec": {
   "display_name": "Python 3",
   "language": "python",
   "name": "python3"
  },
  "language_info": {
   "codemirror_mode": {
    "name": "ipython",
    "version": 3
   },
   "file_extension": ".py",
   "mimetype": "text/x-python",
   "name": "python",
   "nbconvert_exporter": "python",
   "pygments_lexer": "ipython3",
   "version": "3.8.8"
  }
 },
 "nbformat": 4,
 "nbformat_minor": 5
}
