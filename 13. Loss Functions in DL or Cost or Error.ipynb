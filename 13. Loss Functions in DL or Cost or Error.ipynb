{
 "cells": [
  {
   "cell_type": "markdown",
   "id": "b939f212",
   "metadata": {},
   "source": [
    "# Types\n",
    "- For every use case will be either dealing with classification or Regression\n",
    "- Loss function: If passing only one record then calculating the error for ex in SGD\n",
    "- Cost function: suppose if we are giving a batch of records then do the forward and backward propogation -  doing summation of multiple errors\n",
    "- Error : Both are error functions only"
   ]
  },
  {
   "cell_type": "markdown",
   "id": "775cef57",
   "metadata": {},
   "source": [
    "# Loss function in Regression\n",
    "1. Squared error loss = (y-y')2 ----> summation from i to i (y-y')2 which is Mean squared error(MSE)\n",
    "    Advantages:\n",
    "    - In the form of quadratic eqn\n",
    "    - when we plot the QE will get the GD with only global minima\n",
    "    - We dont get any local minima\n",
    "    - The MSE loss penalized the model for making large error by squaring the error\n",
    "    Disadvantages:\n",
    "    - It is not robust to outliers\n",
    "2. Absolute Error loss(MAEL)\n",
    "    Advantages:\n",
    "    - It is in the form of linear equation\n",
    "    - The MAE is more robust to outliers as compared to MSE\n",
    "  \n",
    "    Disadvantages:\n",
    "     - Computational is very difficult\n",
    "     - It may have local minima\n",
    "        \n",
    "3. Huber Loss: Combination of MSE and MAE\n",
    "  "
   ]
  },
  {
   "cell_type": "markdown",
   "id": "1d68e678",
   "metadata": {},
   "source": [
    "# Loss Function for Classification Problem:\n",
    "1. Cross Entropy loss : It can used for the Binary cross entropy which can solve binary classification problem\n",
    "2. Multi class cross entropy loss: In that Categorical Cross entropy: which can solve Multiclass classification problem\n",
    "3. you can check Keras page for more loss"
   ]
  },
  {
   "cell_type": "code",
   "execution_count": null,
   "id": "4cfdc7dd",
   "metadata": {},
   "outputs": [],
   "source": []
  }
 ],
 "metadata": {
  "kernelspec": {
   "display_name": "Python 3",
   "language": "python",
   "name": "python3"
  },
  "language_info": {
   "codemirror_mode": {
    "name": "ipython",
    "version": 3
   },
   "file_extension": ".py",
   "mimetype": "text/x-python",
   "name": "python",
   "nbconvert_exporter": "python",
   "pygments_lexer": "ipython3",
   "version": "3.8.8"
  }
 },
 "nbformat": 4,
 "nbformat_minor": 5
}
