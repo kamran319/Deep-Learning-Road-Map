{
 "cells": [
  {
   "cell_type": "markdown",
   "id": "9dbd1081",
   "metadata": {},
   "source": [
    "- Derivate of loss wrt to weigths \n",
    "- It will happen coz of weights\n",
    "- If the weights are high will be facing the problem of Exploding gradient decent\n",
    "- If the weights are small will be facing the problem of vanishing gradient problem\n",
    "- The GD will never converge in this senario"
   ]
  },
  {
   "cell_type": "code",
   "execution_count": null,
   "id": "c3cd797e",
   "metadata": {},
   "outputs": [],
   "source": []
  }
 ],
 "metadata": {
  "kernelspec": {
   "display_name": "Python 3",
   "language": "python",
   "name": "python3"
  },
  "language_info": {
   "codemirror_mode": {
    "name": "ipython",
    "version": 3
   },
   "file_extension": ".py",
   "mimetype": "text/x-python",
   "name": "python",
   "nbconvert_exporter": "python",
   "pygments_lexer": "ipython3",
   "version": "3.8.8"
  }
 },
 "nbformat": 4,
 "nbformat_minor": 5
}
