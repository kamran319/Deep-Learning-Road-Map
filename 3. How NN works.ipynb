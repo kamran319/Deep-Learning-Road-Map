{
 "cells": [
  {
   "cell_type": "markdown",
   "id": "d1a8215e",
   "metadata": {},
   "source": [
    "- NN y = w1x1 + w2x2 + w2x3 + bias, and z= act(y)\n",
    "- x1,x2,x3 are the inputs\n",
    "- w1,w2,w3 are the weights\n",
    "- In step -1 summations of weights and inputs will happen\n",
    "- In step -2 summations of weights and inputs with activation function will happen\n",
    "- This is the Forward propogation "
   ]
  }
 ],
 "metadata": {
  "kernelspec": {
   "display_name": "Python 3",
   "language": "python",
   "name": "python3"
  },
  "language_info": {
   "codemirror_mode": {
    "name": "ipython",
    "version": 3
   },
   "file_extension": ".py",
   "mimetype": "text/x-python",
   "name": "python",
   "nbconvert_exporter": "python",
   "pygments_lexer": "ipython3",
   "version": "3.8.8"
  }
 },
 "nbformat": 4,
 "nbformat_minor": 5
}
