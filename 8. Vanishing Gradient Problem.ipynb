{
 "cells": [
  {
   "cell_type": "markdown",
   "id": "5e62cf70",
   "metadata": {},
   "source": [
    "- Sigmoid AF ranges btwn 0 to 1\n",
    "- Derivative of sigmoid will be basically btwn 0 to 0.25\n",
    "- The value of the derivate will be decreasing as layers increases(small no)\n",
    "- new weights and old weights will be approximately equal"
   ]
  }
 ],
 "metadata": {
  "kernelspec": {
   "display_name": "Python 3",
   "language": "python",
   "name": "python3"
  },
  "language_info": {
   "codemirror_mode": {
    "name": "ipython",
    "version": 3
   },
   "file_extension": ".py",
   "mimetype": "text/x-python",
   "name": "python",
   "nbconvert_exporter": "python",
   "pygments_lexer": "ipython3",
   "version": "3.8.8"
  }
 },
 "nbformat": 4,
 "nbformat_minor": 5
}
