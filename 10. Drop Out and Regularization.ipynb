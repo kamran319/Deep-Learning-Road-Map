{
 "cells": [
  {
   "cell_type": "markdown",
   "id": "2b66fe57",
   "metadata": {},
   "source": [
    "- whenever we are having a deep NN there are lots of weights and biases parameters\n",
    "- whenever we have more weights and biases parameters NN will result in overfitting\n",
    "- For Multi layer NN will never face the problem of underfitting\n",
    "- High variance problem - Overfitting\n",
    "- To overcome this we can use Drop-out and L1 and L2 regularization\n",
    "- Drop-out ratio - p = ranges btwn 0 to 1\n",
    "- Subset of Node followed by Neuron"
   ]
  },
  {
   "cell_type": "markdown",
   "id": "23029217",
   "metadata": {},
   "source": [
    "# How to use P value\n",
    "- By using Hyperparameter like Cross validation techniques etc\n",
    "- P value should be little higher whenever we are having Deep NN > 0.5\n",
    "- "
   ]
  }
 ],
 "metadata": {
  "kernelspec": {
   "display_name": "Python 3",
   "language": "python",
   "name": "python3"
  },
  "language_info": {
   "codemirror_mode": {
    "name": "ipython",
    "version": 3
   },
   "file_extension": ".py",
   "mimetype": "text/x-python",
   "name": "python",
   "nbconvert_exporter": "python",
   "pygments_lexer": "ipython3",
   "version": "3.8.8"
  }
 },
 "nbformat": 4,
 "nbformat_minor": 5
}
