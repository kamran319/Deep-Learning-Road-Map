{
 "cells": [
  {
   "cell_type": "markdown",
   "id": "f3a93c0e",
   "metadata": {},
   "source": [
    "- The difference between actual and predicted is the loss function\n",
    "- The loss should be reduced such that it should match the predicted value vs actual value\n",
    "- This can be done by using optimizers like gradient Descent, SGD\n",
    "- For that we have to updates the weights during back propogation like weights - learning rate * derivative of loss by derivative if weight\n",
    "- LR should be a very small value coz it has reach global minima function\n",
    "- This process repeates till the actual and predicted value is same for the some number of epochs, and loss should be minimum\n",
    "- If we have multiple records we have define cost function\n",
    "- If we have single record we have to define Loss function"
   ]
  }
 ],
 "metadata": {
  "kernelspec": {
   "display_name": "Python 3",
   "language": "python",
   "name": "python3"
  },
  "language_info": {
   "codemirror_mode": {
    "name": "ipython",
    "version": 3
   },
   "file_extension": ".py",
   "mimetype": "text/x-python",
   "name": "python",
   "nbconvert_exporter": "python",
   "pygments_lexer": "ipython3",
   "version": "3.8.8"
  }
 },
 "nbformat": 4,
 "nbformat_minor": 5
}
