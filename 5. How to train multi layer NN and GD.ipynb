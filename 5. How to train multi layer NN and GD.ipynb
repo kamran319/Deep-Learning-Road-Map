{
 "cells": [
  {
   "cell_type": "markdown",
   "id": "17be554c",
   "metadata": {},
   "source": [
    "- GD is the optimizers whose function is to updates the weights in such a way that our predicted value should be same as the actutal\n",
    "- GD will try to find out the most the weights thats needs to be updated in a very effecient way, the best weights to calculte the predicted value\n",
    "- The function is to reach the global minima\n",
    "- if the slope is -ve, we are adding old weights with some value then the pointer will move down to reach the global minima that will decide by the LR which should be minimum\n",
    "- if the slope is +ve , we are subtracting old weights with some value, then the value will be reduced to down\n",
    "- The same process will repeate till it reach the global minima\n",
    "- If the loss is decresing then we are going in the right direction\n"
   ]
  }
 ],
 "metadata": {
  "kernelspec": {
   "display_name": "Python 3",
   "language": "python",
   "name": "python3"
  },
  "language_info": {
   "codemirror_mode": {
    "name": "ipython",
    "version": 3
   },
   "file_extension": ".py",
   "mimetype": "text/x-python",
   "name": "python",
   "nbconvert_exporter": "python",
   "pygments_lexer": "ipython3",
   "version": "3.8.8"
  }
 },
 "nbformat": 4,
 "nbformat_minor": 5
}
