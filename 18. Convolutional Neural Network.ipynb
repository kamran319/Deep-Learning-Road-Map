{
 "cells": [
  {
   "cell_type": "markdown",
   "id": "3cbb4e4b",
   "metadata": {},
   "source": [
    "# CNN: \n",
    "- whenever the input is in the form of images and videos we can use CNN\n",
    "- Object detection, object classification, face classification, object regression\n",
    "- filters - finding the patterns in the images like one filter will find a pattern of hands etc etc"
   ]
  },
  {
   "cell_type": "markdown",
   "id": "3bcbb349",
   "metadata": {},
   "source": [
    "# Convolutional: \n",
    "- grey scale img - black and white color whose values ranges btwn 0-255\n",
    "- colored img - color img with RGB with no 3 channels - ranges btwn 0-255 \n",
    "- normalize the imh with min max scaler - 0-1 \n",
    "- filter is a vertical edge detector "
   ]
  },
  {
   "cell_type": "markdown",
   "id": "a7d2b95c",
   "metadata": {},
   "source": [
    "# Padding:\n",
    "- Strides is just to move one step forwar\n",
    "    - for example if the input image is of 6X6 matrix followed by 3X3 vertical edge filter we are getting the 4X4 matrix as the output but here will be loosing some of the data --- n=6, f=3 = n-f+1 = 6-3+1 = 4\n",
    "- padding  tries to add one row below and one column left side, one row the top and one colum right side --- n+2p-f+1\n",
    "- zero padding\n",
    "- neighbor padding"
   ]
  },
  {
   "cell_type": "markdown",
   "id": "dff6395f",
   "metadata": {},
   "source": [
    "# Operation of CNN:\n",
    "- Input layer -- filter -- Output this the ONE convolution "
   ]
  },
  {
   "cell_type": "markdown",
   "id": "b3fab5d5",
   "metadata": {},
   "source": [
    "# Max Pooling:\n",
    "- location invarient - if we have multiple cat imgs -- for that will be using max pooling\n",
    "    - it will take the max value or high intensity then place it in the output\n",
    "- Types:\n",
    "    Min pooling ,Max pooling and Avearge pooling"
   ]
  },
  {
   "cell_type": "markdown",
   "id": "12c79e5f",
   "metadata": {},
   "source": [
    "# Data Augumentation:\n",
    "- Transfer the image into diffrents images, like flip, horizontal shifting, vertical shifting, zooming, add noise as well, zoomout\n",
    "- we can also add invarinace\n",
    "- Cnn should be robust\n",
    "- It will create more imgs by performing data aug"
   ]
  },
  {
   "cell_type": "code",
   "execution_count": null,
   "id": "ad9f4c9f",
   "metadata": {},
   "outputs": [],
   "source": []
  }
 ],
 "metadata": {
  "kernelspec": {
   "display_name": "Python 3",
   "language": "python",
   "name": "python3"
  },
  "language_info": {
   "codemirror_mode": {
    "name": "ipython",
    "version": 3
   },
   "file_extension": ".py",
   "mimetype": "text/x-python",
   "name": "python",
   "nbconvert_exporter": "python",
   "pygments_lexer": "ipython3",
   "version": "3.8.8"
  }
 },
 "nbformat": 4,
 "nbformat_minor": 5
}
