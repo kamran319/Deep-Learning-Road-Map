{
 "cells": [
  {
   "cell_type": "markdown",
   "id": "8535c75d",
   "metadata": {},
   "source": [
    "# - Exponentital growth in data\n",
    "    - Social media platform\n",
    "    - whats app\n",
    "    - intragram\n",
    "    - youtube video\n",
    "    - Smart phones\n",
    "    \n",
    "# - Used to create recommendation system\n",
    "    - Netflix\n",
    "    \n",
    "    \n",
    "# - Face Detection\n",
    "\n",
    "\n",
    "# - As the amout of data incresing the performance of the old Ml algorithms is decresing in that senario Deeep learning came into picture\n",
    "\n",
    "# - Technology upgradation we are getting the cheap hardwares(GPU-NVIDIA), Cloud, Data Centres\n",
    "\n",
    "# - In ML model FE, FS and Ml models are seperatly actiavted but in DL it is combined in NN\n",
    "\n",
    "# - Deep learning projects can solve complex problems -Image Classification, chat bot, NLp use case"
   ]
  },
  {
   "cell_type": "code",
   "execution_count": null,
   "id": "8f7f5e05",
   "metadata": {},
   "outputs": [],
   "source": []
  },
  {
   "cell_type": "code",
   "execution_count": null,
   "id": "ef3ee5c4",
   "metadata": {},
   "outputs": [],
   "source": []
  }
 ],
 "metadata": {
  "kernelspec": {
   "display_name": "Python 3",
   "language": "python",
   "name": "python3"
  },
  "language_info": {
   "codemirror_mode": {
    "name": "ipython",
    "version": 3
   },
   "file_extension": ".py",
   "mimetype": "text/x-python",
   "name": "python",
   "nbconvert_exporter": "python",
   "pygments_lexer": "ipython3",
   "version": "3.8.8"
  }
 },
 "nbformat": 4,
 "nbformat_minor": 5
}
