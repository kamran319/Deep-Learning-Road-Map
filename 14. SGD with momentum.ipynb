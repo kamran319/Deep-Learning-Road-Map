{
 "cells": [
  {
   "cell_type": "markdown",
   "id": "0ea387aa",
   "metadata": {},
   "source": [
    "- It will be used to reduce the noise in the data, simply using moving average formula liek ARIMA\n",
    "- gamma value will mostly used as 0.9"
   ]
  },
  {
   "cell_type": "code",
   "execution_count": null,
   "id": "a53d3018",
   "metadata": {},
   "outputs": [],
   "source": []
  }
 ],
 "metadata": {
  "kernelspec": {
   "display_name": "Python 3",
   "language": "python",
   "name": "python3"
  },
  "language_info": {
   "codemirror_mode": {
    "name": "ipython",
    "version": 3
   },
   "file_extension": ".py",
   "mimetype": "text/x-python",
   "name": "python",
   "nbconvert_exporter": "python",
   "pygments_lexer": "ipython3",
   "version": "3.8.8"
  }
 },
 "nbformat": 4,
 "nbformat_minor": 5
}
