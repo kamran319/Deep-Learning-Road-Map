{
 "cells": [
  {
   "cell_type": "markdown",
   "id": "e4900adc",
   "metadata": {},
   "source": [
    "- weights should be small\n",
    "- weights should not be same\n",
    "- weights should have good variance - each and every neuron is learning something from the i/p neuron"
   ]
  },
  {
   "cell_type": "markdown",
   "id": "32f653f7",
   "metadata": {},
   "source": [
    "# Ways\n",
    "1. Uniform Distribution - weights can be taken from uniform distribution with some a, and b value (lower and upper)\n",
    "2. Xavier/Gorat Distribution (works good with sigmoid AF)\n",
    "    a. Xavier normal - weights are taken from Normal distribution with mean as zero and some std\n",
    "    b. Xavier uniform - weights are taken from uniform distribution with some lower and maximum value\n",
    "3. He init( works good with RELU AF)\n",
    "    a. He uniform - weights are taken from uniform distribution with some lower and maximum value\n",
    "    b. He normal - weights are taken from Normal distribution with mean as zero and some std"
   ]
  },
  {
   "cell_type": "code",
   "execution_count": null,
   "id": "3468fc7c",
   "metadata": {},
   "outputs": [],
   "source": []
  }
 ],
 "metadata": {
  "kernelspec": {
   "display_name": "Python 3",
   "language": "python",
   "name": "python3"
  },
  "language_info": {
   "codemirror_mode": {
    "name": "ipython",
    "version": 3
   },
   "file_extension": ".py",
   "mimetype": "text/x-python",
   "name": "python",
   "nbconvert_exporter": "python",
   "pygments_lexer": "ipython3",
   "version": "3.8.8"
  }
 },
 "nbformat": 4,
 "nbformat_minor": 5
}
