{
 "cells": [
  {
   "cell_type": "markdown",
   "id": "5d079b55",
   "metadata": {},
   "source": [
    "- ANN: Used for tabular data like excel file\n",
    "- CNN: Used for Images and Videos\n",
    "- RNN: Used for Sequence of Data , Time Series Data, Text Data"
   ]
  },
  {
   "cell_type": "markdown",
   "id": "78b311bf",
   "metadata": {},
   "source": [
    "# Deep Learning: Technique which mimics Human brain"
   ]
  },
  {
   "cell_type": "markdown",
   "id": "0a18e0e2",
   "metadata": {},
   "source": [
    "- Neural Network the first simplest type of NN is Perceptron , Later on Back propagation developed by jeffery Hinton \n",
    "- First Layer of NN is Input layer which is having nodes, then followed by hidden layer which is having many neurons, after preprocessing then we get the output\n",
    "- y = w1+x1+w2x2+w3x3 \n",
    "- weights and activation function function will play an important role\n",
    "- summation of weights and inputs will happen in step-1\n",
    "- Then adding the bias\n",
    "- after that activation function will be used in step-2\n",
    "- Sigmoid AF - will transform the output btwn 0 and 1, anything less than 0.5 it willactually become zero"
   ]
  },
  {
   "cell_type": "markdown",
   "id": "e7bff4d2",
   "metadata": {},
   "source": [
    "# Activation Function\n",
    "- Sigmoid AF - will transform the output btwn 0 and 1, anything less than 0.5(threshold) it will actually become zero, used in Logistic Regression\n",
    "- Relu AF - if output value is -ve it will transform to 0 and if the output is +ve it will transform to that +ve value\n",
    "- when ever solving regression problem AF will be used is Relu , let be it Hidden layer or Output layer "
   ]
  }
 ],
 "metadata": {
  "kernelspec": {
   "display_name": "Python 3",
   "language": "python",
   "name": "python3"
  },
  "language_info": {
   "codemirror_mode": {
    "name": "ipython",
    "version": 3
   },
   "file_extension": ".py",
   "mimetype": "text/x-python",
   "name": "python",
   "nbconvert_exporter": "python",
   "pygments_lexer": "ipython3",
   "version": "3.8.8"
  }
 },
 "nbformat": 4,
 "nbformat_minor": 5
}
