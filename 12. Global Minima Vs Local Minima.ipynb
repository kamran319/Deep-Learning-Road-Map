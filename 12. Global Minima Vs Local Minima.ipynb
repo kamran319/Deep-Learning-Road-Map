{
 "cells": [
  {
   "cell_type": "markdown",
   "id": "74568611",
   "metadata": {},
   "source": [
    "- loss function is Mean Squared error\n",
    "- local minima - derivative at this point is zero\n",
    "- Global  minima - derivative at this point is zero\n",
    "- saddle point - derivative at this point is zero\n",
    "1. Convex funct - this kind of curve occurs in most of the Ml like linear and logistic\n",
    "    will have only one global minima, there will be two regions, in this points will be present only in one region\n",
    "2. Non convex funct -  this kind of curve occurs in most of the Dl techniques\n",
    "    there will be two regions "
   ]
  },
  {
   "cell_type": "code",
   "execution_count": null,
   "id": "923e0f84",
   "metadata": {},
   "outputs": [],
   "source": []
  }
 ],
 "metadata": {
  "kernelspec": {
   "display_name": "Python 3",
   "language": "python",
   "name": "python3"
  },
  "language_info": {
   "codemirror_mode": {
    "name": "ipython",
    "version": 3
   },
   "file_extension": ".py",
   "mimetype": "text/x-python",
   "name": "python",
   "nbconvert_exporter": "python",
   "pygments_lexer": "ipython3",
   "version": "3.8.8"
  }
 },
 "nbformat": 4,
 "nbformat_minor": 5
}
