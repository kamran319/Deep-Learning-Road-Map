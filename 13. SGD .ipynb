{
 "cells": [
  {
   "cell_type": "markdown",
   "id": "380cd3ce",
   "metadata": {},
   "source": [
    "# SGD \n",
    "- To find derivative will be using chain rule\n",
    "- All n data points will be used to calculate the loss this technique is know as GD\n",
    "- Only 1 data point at a time will be considered- SGD\n",
    "- K data points which is always less than n - Mini batch SGD\n",
    "- Mini batch is used in ANN and other NN\n",
    "- SGD is used in linear regression\n",
    "- If Mini batch is used convergence will not happen quickly\n",
    "- If the derivative of loss wrt to old weights with mini batch SGD(Sample data in statistical analysis)is approximately equal to derivative of loss wrt to old weights with GD(population data)\n",
    "- GD is higher computational memory\n",
    "- zig-zag moments of mini batch SGD has some noise- SGD with momemntum will be used to remove the noise in the data set"
   ]
  },
  {
   "cell_type": "code",
   "execution_count": null,
   "id": "b344a579",
   "metadata": {},
   "outputs": [],
   "source": []
  }
 ],
 "metadata": {
  "kernelspec": {
   "display_name": "Python 3",
   "language": "python",
   "name": "python3"
  },
  "language_info": {
   "codemirror_mode": {
    "name": "ipython",
    "version": 3
   },
   "file_extension": ".py",
   "mimetype": "text/x-python",
   "name": "python",
   "nbconvert_exporter": "python",
   "pygments_lexer": "ipython3",
   "version": "3.8.8"
  }
 },
 "nbformat": 4,
 "nbformat_minor": 5
}
